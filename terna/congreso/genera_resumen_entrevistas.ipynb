{
 "cells": [
  {
   "metadata": {
    "ExecuteTime": {
     "end_time": "2025-03-20T01:20:04.500650Z",
     "start_time": "2025-03-20T01:20:04.492327Z"
    }
   },
   "cell_type": "code",
   "source": [
    "from google import genai\n",
    "import re\n",
    "#Guardar como pdf\n",
    "from fpdf import FPDF"
   ],
   "id": "e268c2af216678da",
   "outputs": [],
   "execution_count": 10
  },
  {
   "metadata": {
    "ExecuteTime": {
     "end_time": "2025-03-20T01:20:05.313829Z",
     "start_time": "2025-03-20T01:20:05.302876Z"
    }
   },
   "cell_type": "code",
   "source": [
    "#Leer credenciales de google\n",
    "\n",
    "with open('C:/cred_google_gemini.txt', 'r') as file:\n",
    "    llave = file.read()"
   ],
   "id": "261134d2aa0aa419",
   "outputs": [],
   "execution_count": 11
  },
  {
   "metadata": {
    "ExecuteTime": {
     "end_time": "2025-03-20T01:20:06.606200Z",
     "start_time": "2025-03-20T01:20:06.601209Z"
    }
   },
   "cell_type": "code",
   "source": "client=genai.Client(api_key=llave)",
   "id": "6c6de215517bb7b8",
   "outputs": [],
   "execution_count": 12
  },
  {
   "metadata": {
    "ExecuteTime": {
     "end_time": "2025-03-20T01:20:08.066882Z",
     "start_time": "2025-03-20T01:20:08.049491Z"
    }
   },
   "cell_type": "code",
   "source": [
    "#Leer entrevistas sucias\n",
    "with open('transcrip_entrevista_congreso.txt', 'r', encoding='utf-8') as file:\n",
    "     entrevistas = file.read()\n",
    "type(entrevistas)"
   ],
   "id": "42752f71120bf0f5",
   "outputs": [
    {
     "data": {
      "text/plain": [
       "str"
      ]
     },
     "execution_count": 13,
     "metadata": {},
     "output_type": "execute_result"
    }
   ],
   "execution_count": 13
  },
  {
   "metadata": {
    "ExecuteTime": {
     "end_time": "2025-03-20T01:20:09.751046Z",
     "start_time": "2025-03-20T01:20:09.743595Z"
    }
   },
   "cell_type": "code",
   "source": [
    "# Patrón de búsqueda\n",
    "pattern = r\"\\'text\\': \\'(.*?)\\'\"\n",
    "\n",
    "# Extraer textos\n",
    "textos = re.findall(pattern, entrevistas)\n",
    "# Pegar los textos\n",
    "entrevistas_limpias = ' '.join(textos)"
   ],
   "id": "e864562fc5df4fd0",
   "outputs": [],
   "execution_count": 14
  },
  {
   "metadata": {
    "ExecuteTime": {
     "end_time": "2025-03-20T01:20:11.413357Z",
     "start_time": "2025-03-20T01:20:11.408614Z"
    }
   },
   "cell_type": "code",
   "source": [
    "#Salvar transcripción limpia\n",
    "with open('transcripciones_limpias_ent_congreso.txt', 'w', encoding='utf-8') as file:\n",
    "    file.write(entrevistas_limpias)"
   ],
   "id": "cd273b65407a0a92",
   "outputs": [],
   "execution_count": 15
  },
  {
   "metadata": {},
   "cell_type": "markdown",
   "source": "### Visión general de entrevistadas",
   "id": "cf87d2f9d3041023"
  },
  {
   "metadata": {
    "ExecuteTime": {
     "end_time": "2025-03-20T01:22:48.424274Z",
     "start_time": "2025-03-20T01:22:43.542738Z"
    }
   },
   "cell_type": "code",
   "source": [
    "# Generar el contenido con el modelo\n",
    "response = client.models.generate_content(\n",
    "model=\"gemini-2.0-flash\",\n",
    "contents=[entrevistas_limpias,\"Genera una síntesis extensa de cada uno de los planes de acción que expusieron Carina Arvizu Machado, Martha Laura Peña Ordoñez y Patricia Ramírez Kuri en sus entrevistas. No hagas juicios, solo dame los argumentos\"])\n",
    "\n",
    "resumen_general = response.text"
   ],
   "id": "75ea4b8f326d3fdb",
   "outputs": [],
   "execution_count": 20
  },
  {
   "metadata": {
    "ExecuteTime": {
     "end_time": "2025-03-20T01:22:48.435285Z",
     "start_time": "2025-03-20T01:22:48.424274Z"
    }
   },
   "cell_type": "code",
   "source": [
    "#Salvar resumen general\n",
    "with open('res_entrev_congreso.txt', 'w', encoding='utf-8') as file:\n",
    "    file.write(resumen_general)"
   ],
   "id": "2580565ab05c255f",
   "outputs": [],
   "execution_count": 21
  },
  {
   "metadata": {
    "ExecuteTime": {
     "end_time": "2025-03-20T01:22:48.447277Z",
     "start_time": "2025-03-20T01:22:48.440125Z"
    }
   },
   "cell_type": "code",
   "source": [
    "#Guardar como pdf\n",
    "pdf = FPDF()\n",
    "pdf.add_page()\n",
    "pdf.set_font(\"Arial\", size = 12)\n",
    "pdf.multi_cell(0, 10, resumen_general)\n",
    "pdf.output(\"resumen_entrevistas_congreso_cdmx_ipdp.pdf\")\n"
   ],
   "id": "c5af51252db57365",
   "outputs": [
    {
     "data": {
      "text/plain": [
       "''"
      ]
     },
     "execution_count": 22,
     "metadata": {},
     "output_type": "execute_result"
    }
   ],
   "execution_count": 22
  }
 ],
 "metadata": {
  "kernelspec": {
   "name": "python3",
   "language": "python",
   "display_name": "Python 3 (ipykernel)"
  }
 },
 "nbformat": 4,
 "nbformat_minor": 5
}
