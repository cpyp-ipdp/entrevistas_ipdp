{
 "cells": [
  {
   "metadata": {
    "ExecuteTime": {
     "end_time": "2025-03-19T23:26:22.807859Z",
     "start_time": "2025-03-19T23:26:22.655104Z"
    }
   },
   "cell_type": "code",
   "source": [
    "from __future__ import unicode_literals\n",
    "import yt_dlp"
   ],
   "id": "c94dbed7becc7767",
   "outputs": [],
   "execution_count": 1
  },
  {
   "metadata": {
    "ExecuteTime": {
     "end_time": "2025-03-19T23:26:22.815677Z",
     "start_time": "2025-03-19T23:26:22.812237Z"
    }
   },
   "cell_type": "code",
   "source": [
    "# Ligas de entrevistas a terna aspirantes IPDP\n",
    "urls_youtube = {\n",
    "    \"primera_parte\": \"https://www.youtube.com/live/iwsUH16jt-A?si=FEo__3gRNrjRUwoP\",\n",
    "}"
   ],
   "id": "79a846dd4b8204d1",
   "outputs": [],
   "execution_count": 2
  },
  {
   "metadata": {
    "ExecuteTime": {
     "end_time": "2025-03-19T23:26:22.823570Z",
     "start_time": "2025-03-19T23:26:22.819423Z"
    }
   },
   "cell_type": "code",
   "source": [
    "#Función para descargar audio de los vídeos\n",
    "def download_audio(url):\n",
    "    ydl_opts = {\n",
    "        'format': 'bestaudio/best',\n",
    "        'postprocessors': [{\n",
    "            'key': 'FFmpegExtractAudio',\n",
    "            'preferredcodec': 'mp3',\n",
    "            'preferredquality': '192',\n",
    "        }],\n",
    "    }\n",
    "\n",
    "    with yt_dlp.YoutubeDL(ydl_opts) as ydl:\n",
    "        ydl.download([url])"
   ],
   "id": "473132a8755a4ef7",
   "outputs": [],
   "execution_count": 3
  },
  {
   "metadata": {
    "ExecuteTime": {
     "end_time": "2025-03-19T23:41:48.897344Z",
     "start_time": "2025-03-19T23:26:22.829721Z"
    }
   },
   "cell_type": "code",
   "source": [
    "#Descargar audio\n",
    "download_audio(urls_youtube[\"primera_parte\"])"
   ],
   "id": "4e1f9f22b348011c",
   "outputs": [
    {
     "name": "stdout",
     "output_type": "stream",
     "text": [
      "[youtube] Extracting URL: https://www.youtube.com/live/iwsUH16jt-A?si=FEo__3gRNrjRUwoP\n",
      "[youtube] iwsUH16jt-A: Downloading webpage\n",
      "[youtube] iwsUH16jt-A: Downloading tv client config\n",
      "[youtube] iwsUH16jt-A: Downloading player 82345d49\n",
      "[youtube] iwsUH16jt-A: Downloading tv player API JSON\n",
      "[youtube] iwsUH16jt-A: Downloading ios player API JSON\n",
      "[youtube] iwsUH16jt-A: Downloading MPD manifest\n",
      "[youtube] iwsUH16jt-A: Downloading MPD manifest\n",
      "[info] iwsUH16jt-A: Downloading 1 format(s): 140\n",
      "[dashsegments] Total fragments: 2430\n",
      "[download] Destination: #EnVivo｜ Comisiones Unidas： Administración Pública Local y Planeación del Desarrollo ｜ 19 marzo 2025 [iwsUH16jt-A].m4a\n",
      "[download] 100% of  189.78MiB in 00:10:47 at 299.98KiB/s                   \n",
      "[FixupM4a] Correcting container of \"#EnVivo｜ Comisiones Unidas： Administración Pública Local y Planeación del Desarrollo ｜ 19 marzo 2025 [iwsUH16jt-A].m4a\"\n",
      "[FixupDuplicateMoov] Fixing duplicate MOOV atoms of \"#EnVivo｜ Comisiones Unidas： Administración Pública Local y Planeación del Desarrollo ｜ 19 marzo 2025 [iwsUH16jt-A].m4a\"\n",
      "[ExtractAudio] Destination: #EnVivo｜ Comisiones Unidas： Administración Pública Local y Planeación del Desarrollo ｜ 19 marzo 2025 [iwsUH16jt-A].mp3\n",
      "Deleting original file #EnVivo｜ Comisiones Unidas： Administración Pública Local y Planeación del Desarrollo ｜ 19 marzo 2025 [iwsUH16jt-A].m4a (pass -k to keep)\n"
     ]
    }
   ],
   "execution_count": 4
  }
 ],
 "metadata": {
  "kernelspec": {
   "name": "python3",
   "language": "python",
   "display_name": "Python 3 (ipykernel)"
  }
 },
 "nbformat": 4,
 "nbformat_minor": 5
}
